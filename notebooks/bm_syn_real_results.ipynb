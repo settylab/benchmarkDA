{
 "cells": [
  {
   "cell_type": "code",
   "execution_count": null,
   "id": "54a991b1-1f8a-482e-b468-4599d9964f77",
   "metadata": {
    "tags": []
   },
   "outputs": [],
   "source": [
    "import os\n",
    "import glob\n",
    "\n",
    "import numpy as np\n",
    "import pandas as pd\n",
    "\n",
    "from sklearn.metrics import auc\n",
    "\n",
    "import matplotlib\n",
    "import matplotlib.pyplot as plt\n",
    "import matplotlib.patches as mpatches\n",
    "\n",
    "from tqdm.auto import tqdm"
   ]
  },
  {
   "cell_type": "code",
   "execution_count": null,
   "id": "5fbc3150-7936-4c9a-8620-edf01fc17ec8",
   "metadata": {
    "tags": []
   },
   "outputs": [],
   "source": [
    "%matplotlib inline\n",
    "\n",
    "matplotlib.rcParams[\"figure.figsize\"] = [4, 4]\n",
    "matplotlib.rcParams[\"figure.dpi\"] = 125\n",
    "matplotlib.rcParams[\"image.cmap\"] = \"Spectral_r\"\n",
    "# no bounding boxes or axis:\n",
    "matplotlib.rcParams[\"axes.spines.bottom\"] = \"on\"\n",
    "matplotlib.rcParams[\"axes.spines.top\"] = \"off\"\n",
    "matplotlib.rcParams[\"axes.spines.left\"] = \"on\"\n",
    "matplotlib.rcParams[\"axes.spines.right\"] = \"off\""
   ]
  },
  {
   "cell_type": "code",
   "execution_count": null,
   "id": "f092f061-eddd-4287-969c-b59836ae69d3",
   "metadata": {},
   "outputs": [],
   "source": [
    "data_ids = [\"linear\", \"branch\", \"cluster\", \"covid19-pbmc\", \"bcr-xl\"]\n",
    "result_path = \"../benchmark\""
   ]
  },
  {
   "cell_type": "code",
   "execution_count": null,
   "id": "c1cd5957-54ab-42e3-8ae6-a589cc8eade3",
   "metadata": {
    "tags": []
   },
   "outputs": [],
   "source": [
    "runtimes = dict()\n",
    "allAUCs = dict()\n",
    "for dataset_id in tqdm(data_ids, desc=\"dataset\"):\n",
    "    directory_path = os.path.join(result_path, dataset_id)\n",
    "\n",
    "    AUCs = dict()\n",
    "    rt = runtimes.get(dataset_id, dict())\n",
    "    for csv_file in tqdm(glob.glob(f\"{directory_path}/*.csv\"), desc=dataset_id):\n",
    "        if \"_batch.csv\" in csv_file:\n",
    "            continue\n",
    "        df = pd.read_csv(csv_file)\n",
    "        filename = os.path.basename(csv_file)\n",
    "        method = filename.split(\".\")[-2]\n",
    "        for term in filename.split(\"_\"):\n",
    "            if term.startswith(\"enr\"):\n",
    "                break\n",
    "        else:\n",
    "            term = \"enr0\"\n",
    "        enrichment = float(term[3:])\n",
    "        a1 = auc(\n",
    "            np.maximum.accumulate(df[\"FPR\"]),\n",
    "            np.maximum.accumulate(df[\"TPR\"]),\n",
    "        )\n",
    "        a2 = auc(\n",
    "            np.minimum.accumulate(df[\"FPR\"]),\n",
    "            np.minimum.accumulate(df[\"TPR\"]),\n",
    "        )\n",
    "        a = max(a1, a2)\n",
    "        enrichment_aucs = AUCs.get(enrichment, dict())\n",
    "        method_aucs = enrichment_aucs.get(method, list())\n",
    "        method_aucs.append(a)\n",
    "        enrichment_aucs[method] = method_aucs\n",
    "        AUCs[enrichment] = enrichment_aucs\n",
    "\n",
    "        runntime = rt.get(method, list())\n",
    "        runntime += df[\"runtime\"].to_list()\n",
    "        rt[method] = runntime\n",
    "    runtimes[dataset_id] = rt\n",
    "    allAUCs[dataset_id] = AUCs"
   ]
  },
  {
   "cell_type": "code",
   "execution_count": null,
   "id": "0ce56bb5-3576-4a28-9a2f-cf3fad84bada",
   "metadata": {
    "tags": []
   },
   "outputs": [],
   "source": [
    "colormap = matplotlib.colormaps[\"Paired\"]\n",
    "width, height = matplotlib.rcParams[\"figure.figsize\"]\n",
    "nplot = len(allAUCs)\n",
    "fig, axs = plt.subplots(ncols=nplot, figsize=(nplot * width, height))\n",
    "\n",
    "# Extract unique methods and map to colors\n",
    "unique_methods = {\n",
    "    method\n",
    "    for AUCs in allAUCs.values()\n",
    "    for enrichment_aucs in AUCs.values()\n",
    "    for method in enrichment_aucs.keys()\n",
    "}\n",
    "method_colors = {\n",
    "    method: color for method, color in zip(sorted(unique_methods), colormap.colors)\n",
    "}\n",
    "\n",
    "for ax, (dataset_id, AUCs) in zip(axs, allAUCs.items()):\n",
    "    sorted_enrichments = sorted(AUCs.keys())\n",
    "\n",
    "    # Position tracker for x-ticks\n",
    "    position = 0\n",
    "\n",
    "    # Track tick positions and labels for enrichments\n",
    "    tick_positions = []\n",
    "    tick_labels = []\n",
    "\n",
    "    for enrichment in sorted_enrichments:\n",
    "        enrichment_aucs = AUCs[enrichment]\n",
    "        methods = sorted(\n",
    "            enrichment_aucs.keys(), key=lambda x: -np.median(enrichment_aucs[x])\n",
    "        )\n",
    "        data = [enrichment_aucs[method] for method in methods]\n",
    "\n",
    "        bp = ax.boxplot(\n",
    "            data,\n",
    "            positions=range(position, position + len(methods)),\n",
    "            widths=1,\n",
    "            patch_artist=True,\n",
    "        )\n",
    "\n",
    "        for patch, method in zip(bp[\"boxes\"], methods):\n",
    "            patch.set_facecolor(method_colors[method])\n",
    "            patch.set_edgecolor(\"black\")\n",
    "\n",
    "        # Record tick position and label for this enrichment\n",
    "        tick_positions.append(position + len(methods) / 2)\n",
    "        tick_labels.append(str(enrichment))\n",
    "\n",
    "        position += len(methods)\n",
    "\n",
    "    ax.set_xticks(tick_positions, tick_labels)\n",
    "\n",
    "    ax.set_xlim(-1, position)\n",
    "\n",
    "    ax.set_xlabel(\"Enrichment\")\n",
    "    ax.set_ylabel(\"AUC\")\n",
    "    ax.set_title(f\"dataset = {dataset_id}\")\n",
    "\n",
    "legend_elements = [\n",
    "    mpatches.Patch(facecolor=color, label=method, edgecolor=\"black\")\n",
    "    for method, color in method_colors.items()\n",
    "]\n",
    "\n",
    "plt.legend(handles=legend_elements, loc=\"center left\", bbox_to_anchor=(1, 0.5))\n",
    "\n",
    "plt.show()"
   ]
  },
  {
   "cell_type": "code",
   "execution_count": null,
   "id": "45da63e9-713f-4a9f-a2f2-3c7f91ccb9dc",
   "metadata": {
    "tags": []
   },
   "outputs": [],
   "source": [
    "# Create the plot\n",
    "width, height = matplotlib.rcParams[\"figure.figsize\"]\n",
    "nplot = len(runtimes)\n",
    "fig, axs = plt.subplots(ncols=nplot, figsize=(nplot * width, height))\n",
    "\n",
    "for ax, (dataset_id, rt) in zip(axs, runtimes.items()):\n",
    "    # Sort categories by mean value\n",
    "    methods = sorted(rt.keys(), key=lambda x: np.mean(rt[x]))\n",
    "    data = [rt[method] for method in methods]\n",
    "\n",
    "    bp = ax.boxplot(data, labels=methods, patch_artist=True)\n",
    "\n",
    "    # Set the colors for the boxes\n",
    "    for patch, method in zip(bp[\"boxes\"], methods):\n",
    "        patch.set_facecolor(method_colors[method])\n",
    "        patch.set_edgecolor(\"black\")\n",
    "\n",
    "    ax.set_xticklabels(ax.get_xticklabels(), rotation=90)\n",
    "\n",
    "    ax.set_xlabel(\"Methods\")\n",
    "    ax.set_ylabel(\"Runntime\")\n",
    "    ax.set_title(f\"dataset = {dataset_id}\")\n",
    "\n",
    "    ax.set_yscale(\"log\")\n",
    "\n",
    "plt.legend(bp[\"boxes\"], methods, loc=\"center left\", bbox_to_anchor=(1, 0.5))\n",
    "\n",
    "plt.show()"
   ]
  }
 ],
 "metadata": {
  "kernelspec": {
   "display_name": "mellon_v2",
   "language": "python",
   "name": "mellon_v2"
  },
  "language_info": {
   "codemirror_mode": {
    "name": "ipython",
    "version": 3
   },
   "file_extension": ".py",
   "mimetype": "text/x-python",
   "name": "python",
   "nbconvert_exporter": "python",
   "pygments_lexer": "ipython3",
   "version": "3.10.10"
  },
  "widgets": {
   "application/vnd.jupyter.widget-state+json": {
    "state": {},
    "version_major": 2,
    "version_minor": 0
   }
  }
 },
 "nbformat": 4,
 "nbformat_minor": 5
}
